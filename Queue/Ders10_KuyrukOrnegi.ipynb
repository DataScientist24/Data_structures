{
 "cells": [
  {
   "cell_type": "code",
   "execution_count": 7,
   "id": "bc52182a",
   "metadata": {},
   "outputs": [
    {
     "name": "stdout",
     "output_type": "stream",
     "text": [
      "6\n",
      "E 4\n",
      "1\n",
      "E 3\n",
      "2\n",
      "E 2\n",
      "3\n",
      "D\n",
      "4   2\n",
      "D \n",
      "3   1\n",
      "E 1\n",
      "2\n",
      "[0, 0, '2', '1']\n"
     ]
    }
   ],
   "source": [
    "def enqueue(element):\n",
    "    global queue,front,rear,arraySize\n",
    "    if(rear == arraySize):\n",
    "        print(\"Tam dolu\")\n",
    "    else:\n",
    "        queue.append(element)        \n",
    "        rear+=1    \n",
    "        print(rear-front)    \n",
    "\n",
    "def dequeue():\n",
    "    global queue,front,rear,arraySize\n",
    "    if(front == rear):           \n",
    "        print(\"-1 0\")\n",
    "    else:\n",
    "        c = queue[front]\n",
    "        queue[front] = 0       \n",
    "        front+=1\n",
    "        print(c,\" \",rear-front)                        \n",
    "\n",
    "N = int(input())\n",
    "queue = []; front = 0; rear = 0\n",
    "arraySize = 100\n",
    "for i in range(N):\n",
    "    txt = input().split()#[\"E\",\"5\"]\n",
    "    if txt[0]=='D':        \n",
    "        dequeue()\n",
    "    else:    \n",
    "        enqueue(txt[1])\n",
    "print(queue)"
   ]
  },
  {
   "cell_type": "code",
   "execution_count": 5,
   "id": "3b99743e",
   "metadata": {},
   "outputs": [
    {
     "name": "stdout",
     "output_type": "stream",
     "text": [
      "doğal bir sayı giriniz: 21\n",
      "güçlü bir sayı değildir\n"
     ]
    }
   ],
   "source": [
    "def fac(digit):\n",
    "    çarp=1\n",
    "    for i in range(1,digit+1):\n",
    "        çarp=çarp*i\n",
    "    return çarp\n",
    "def Güçlümü(num):\n",
    "    toplam=0\n",
    "    while num>0:\n",
    "        last_digit=num%10\n",
    "        toplam=toplam+fac(last_digit)\n",
    "        num=num//10\n",
    "    return toplam\n",
    "number=int(input(\"doğal bir sayı giriniz: \"))\n",
    "fac_toplam=Güçlümü(number)\n",
    "if fac_toplam==number:\n",
    "    print(\"güçlü bir sayıdır\")\n",
    "else:\n",
    "    print(\"güçlü bir sayı değildir\")\n",
    "\n"
   ]
  },
  {
   "cell_type": "code",
   "execution_count": 1,
   "id": "3db281e7",
   "metadata": {},
   "outputs": [
    {
     "data": {
      "text/plain": [
       "4.0"
      ]
     },
     "execution_count": 1,
     "metadata": {},
     "output_type": "execute_result"
    }
   ],
   "source": [
    "8/2"
   ]
  },
  {
   "cell_type": "code",
   "execution_count": 2,
   "id": "e112abd8",
   "metadata": {},
   "outputs": [
    {
     "name": "stdout",
     "output_type": "stream",
     "text": [
      "0.0\n",
      "0.0\n",
      "0.0\n"
     ]
    }
   ],
   "source": [
    "import math\n",
    "x = 8/2\n",
    "print(math.modf(x)[0]) # طباعة 0.0\n",
    "print(x % 1) # طباعة 0.0\n",
    "print(divmod(x, 1)[1]) # طباعة 0.0\n"
   ]
  },
  {
   "cell_type": "code",
   "execution_count": 11,
   "id": "96691359",
   "metadata": {},
   "outputs": [
    {
     "name": "stdout",
     "output_type": "stream",
     "text": [
      "4.5\n",
      "4.0\n",
      "5.0\n"
     ]
    }
   ],
   "source": [
    "x=9/2\n",
    "print(x)\n",
    "y=x//1\n",
    "print(y)\n",
    "print((x-y)*10)"
   ]
  },
  {
   "cell_type": "code",
   "execution_count": null,
   "id": "57eed512",
   "metadata": {},
   "outputs": [],
   "source": []
  }
 ],
 "metadata": {
  "kernelspec": {
   "display_name": "Python 3 (ipykernel)",
   "language": "python",
   "name": "python3"
  },
  "language_info": {
   "codemirror_mode": {
    "name": "ipython",
    "version": 3
   },
   "file_extension": ".py",
   "mimetype": "text/x-python",
   "name": "python",
   "nbconvert_exporter": "python",
   "pygments_lexer": "ipython3",
   "version": "3.9.7"
  }
 },
 "nbformat": 4,
 "nbformat_minor": 5
}
