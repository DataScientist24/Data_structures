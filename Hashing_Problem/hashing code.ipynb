{
 "cells": [
  {
   "cell_type": "code",
   "execution_count": 32,
   "id": "75b8abca",
   "metadata": {},
   "outputs": [],
   "source": [
    "class Telefon_Rehberi:\n",
    "    def __init__(self):\n",
    "        self.dic={}\n",
    "    def hash_fun(self,isim):\n",
    "        birinci_indes=isim[0]\n",
    "        hash_num=str(hash(birinci_indes))\n",
    "        sum=0\n",
    "        for i in hash_num:\n",
    "            sum+=int(i)\n",
    "        hash_num=sum%20\n",
    "        return hash_num\n",
    "    def ekleme(self,isim,telefon_num):\n",
    "        hash_value=self.hash_fun(isim)\n",
    "        if hash_value not in self.dic:\n",
    "            self.dic[hash_value]=telefon_num\n",
    "        else:\n",
    "            k=hash_value\n",
    "            while True:\n",
    "                k=(k+1)%20\n",
    "                if k not in self.dic:\n",
    "                    self.dic[k]=telefon_num\n",
    "                    return \n",
    "    def silme(self,isim,telefon_num):\n",
    "        hash_value=self.hash_fun(isim)\n",
    "        try: # if the function did not find the hash value it will give an error so will get to the next step that (except) fun\n",
    "            if self.dic[hash_value]==telefon_num:\n",
    "                del self.dic[hash_value]\n",
    "            else:\n",
    "                k=hash_value\n",
    "                while True:\n",
    "                    k=(k+1)%20\n",
    "                    if k in self.dic and self.dic[k]==telefon_num:\n",
    "                        del self.dic[k]\n",
    "                        return \n",
    "        except:\n",
    "            print(f\"there is no one has this hash_value={hash_value} yet\")\n",
    "    def arama(self,isim,telefon_num):\n",
    "        hash_value=self.hash_fun(isim)\n",
    "        first_name=isim.split()[0]\n",
    "        try:\n",
    "            if hash_value in self.dic and self.dic[hash_value]==telefon_num:\n",
    "                print(f\"they are found and their name is {first_name} and their hash_value is {hash_value}\") # حطيت they لانو من المعروف في اللغة الانجليزية اذا ما مبين اذا صبي او بنت \n",
    "                return\n",
    "            k=hash_value\n",
    "            counter=0\n",
    "            while counter<20:\n",
    "                \n",
    "                k=(k+1)%20\n",
    "                if k in self.dic and self.dic[k]==telefon_num:\n",
    "                    print(f\"they are found and their name is {first_name} and their hash_value is {hash_value}\")\n",
    "                    counter=20\n",
    "                counter=counter+1\n",
    "        except:\n",
    "            print(f\"there is no one has this hash_value={hash_value} yet\")\n",
    "    def printer_recods(self):\n",
    "        for name,number in self.dic.items():\n",
    "             print(f\"the name is {name} and their phone number is {number}\")\n"
   ]
  },
  {
   "cell_type": "code",
   "execution_count": 34,
   "id": "ae12b17b",
   "metadata": {},
   "outputs": [
    {
     "name": "stdout",
     "output_type": "stream",
     "text": [
      "the name is 12 and their phone number is 559 443 55 34\n",
      "the name is 17 and their phone number is 535 580 19 30\n",
      "the name is 12 and their phone number is 559 443 55 34\n"
     ]
    }
   ],
   "source": [
    "t=Telefon_Rehberi()\n",
    "record1=(\"Ayşe\",\"559 443 55 34\")\n",
    "record2=(\"Nour\",\"535 580 19 30\")\n",
    "t.ekleme(record1[0],record1[1])\n",
    "t.ekleme(record2[0],record2[1])\n",
    "t.printer_recods()\n",
    "t.silme(record2[0],record2[1])\n",
    "t.printer_recods()"
   ]
  },
  {
   "cell_type": "code",
   "execution_count": null,
   "id": "6a07d3cc",
   "metadata": {},
   "outputs": [],
   "source": []
  }
 ],
 "metadata": {
  "kernelspec": {
   "display_name": "Python 3 (ipykernel)",
   "language": "python",
   "name": "python3"
  },
  "language_info": {
   "codemirror_mode": {
    "name": "ipython",
    "version": 3
   },
   "file_extension": ".py",
   "mimetype": "text/x-python",
   "name": "python",
   "nbconvert_exporter": "python",
   "pygments_lexer": "ipython3",
   "version": "3.9.7"
  }
 },
 "nbformat": 4,
 "nbformat_minor": 5
}
