{
 "cells": [
  {
   "cell_type": "code",
   "execution_count": 30,
   "id": "9f435b04",
   "metadata": {},
   "outputs": [
    {
     "name": "stdout",
     "output_type": "stream",
     "text": [
      "('istediğimiz elemanı bulduk ve onun indexi=7', True)\n"
     ]
    }
   ],
   "source": [
    "from random import randint as ran\n",
    "class Arama:\n",
    "    def __init__(self,liste):\n",
    "        self.liste=sorted(liste)\n",
    "    \n",
    "    def arkaya(self,liste,ilk,orta):  #iki aynı değeri varsa ilk elemanın yeri ver,örneğin 3'ü istiyorsa [1,2,3,3,3,5] cevap=2\n",
    "        while orta>ilk:\n",
    "            if liste[orta]==liste[orta-1]:\n",
    "                orta=orta-1\n",
    "            else:\n",
    "                return orta\n",
    "        return orta\n",
    "\n",
    "    def binary_search(self,value):\n",
    "        ilk=0\n",
    "        son=len(self.liste)-1\n",
    "        while ilk<=son:\n",
    "            orta=(ilk+son)//2\n",
    "            if self.liste[orta]==value:\n",
    "                a=self.arkaya(self.liste,ilk,orta)\n",
    "                return f\"istediğimiz elemanı bulduk ve onun indexi={a}\",True\n",
    "            elif self.liste[orta]<value:\n",
    "                ilk=orta+1\n",
    "            else:\n",
    "                son=orta-1\n",
    "        return \"istediğimiz elemanı bulamadık\",False\n",
    "    \n",
    "    def ternary_search(self,value):\n",
    "        ilk=0\n",
    "        son=len(self.liste)-1\n",
    "        while ilk <= son:\n",
    "            mid1 = ilk + (son - ilk) // 3\n",
    "            mid2 = son - (son - ilk) // 3\n",
    "            if self.liste[mid1]==value:\n",
    "                a=self.arkaya(self.liste,ilk,mid1)\n",
    "                return f\"istediğimiz elemanı bulduk ve onun indexi={a}\",True\n",
    "            elif self.liste[mid2]==value:\n",
    "                a=self.arkaya(self.liste,ilk,mid2)\n",
    "                return f\"istediğimiz elemanı bulduk ve onun indexi={a}\",True\n",
    "            elif self.liste[mid1]>value:\n",
    "                son = mid1 - 1\n",
    "            elif self.liste[mid2]<value:\n",
    "                ilk = mid2 + 1\n",
    "            else:\n",
    "                ilk = mid1 + 1\n",
    "                son = mid2 - 1\n",
    "        return \"istediğimiz elemanı bulamadık\",False\n",
    "    \n",
    "    def linear_search(self,value):\n",
    "        for i in range(len(self.liste)):\n",
    "            if self.liste[i]==value:\n",
    "                return f\"istediğimiz elemanı bulduk ve onun indexi={i}\",True\n",
    "        return \"istediğimiz elemanı bulamadık\",False\n",
    "    \n",
    "    def linear_search_double(self,value):\n",
    "        mid=len(self.liste)//2   \n",
    "        if len(self.liste)%2==1:\n",
    "            if self.liste[mid]==value:\n",
    "                return f\"istediğimiz elemanı bulduk ve onun indexi={mid}\",True\n",
    "        for i in range(mid):\n",
    "            if self.liste[i]==value:\n",
    "                return f\"istediğimiz elemanı bulduk ve onun indexi={i}\",True\n",
    "            elif self.liste[len(self.liste)-i-1]==value:\n",
    "                a=self.arkaya(self.liste,i,len(self.liste)-i-1)\n",
    "                return f\"istediğimiz elemanı bulduk ve onun indexi={a}\",True\n",
    "            \n",
    "        return \"istediğimiz elemanı bulamadık\",False\n",
    "    def print_liste(self):\n",
    "        print(self.liste)\n",
    "        \n",
    "        \n",
    "#liste=[ran(0,9)for i in range(15)]\n",
    "#print(liste)\n",
    "liste=[0, 2, 2, 3, 4, 4, 4, 5, 6, 6, 7, 7, 9, 9, 9]\n",
    "ara=Arama(liste)\n",
    "#ara.print_liste()\n",
    "print(ara.linear_search_double(5))"
   ]
  },
  {
   "cell_type": "code",
   "execution_count": null,
   "id": "83ef46ad",
   "metadata": {},
   "outputs": [],
   "source": []
  },
  {
   "cell_type": "code",
   "execution_count": null,
   "id": "b0c44657",
   "metadata": {},
   "outputs": [],
   "source": []
  },
  {
   "cell_type": "code",
   "execution_count": null,
   "id": "b00c6ecd",
   "metadata": {},
   "outputs": [],
   "source": []
  },
  {
   "cell_type": "code",
   "execution_count": 2,
   "id": "d06e93f5",
   "metadata": {},
   "outputs": [
    {
     "data": {
      "text/plain": [
       "[3.8251466000000107, 3.143079499999999, 17.428916500000014, 66.27116659999999]"
      ]
     },
     "execution_count": 2,
     "metadata": {},
     "output_type": "execute_result"
    }
   ],
   "source": [
    "from random import randint as ran\n",
    "import timeit\n",
    "class Arama:\n",
    "    def __init__(self,liste=None):\n",
    "        self.liste=liste\n",
    "        self.dataset={\"algorithm\":[\"binary_search\",\"ternary_search\",\"linear_search\",\"linear_search_double\"]}\n",
    "\n",
    "    def binary_search(self,value):\n",
    "        ilk=0\n",
    "        son=len(self.liste)-1\n",
    "        while ilk<=son:\n",
    "            orta=(ilk+son)//2\n",
    "            if self.liste[orta]==value:\n",
    "                return f\"istediğimiz elemanı bulduk ve onun indexi={orta}\",True\n",
    "            elif self.liste[orta]<value:\n",
    "                ilk=orta+1\n",
    "            else:\n",
    "                son=orta-1\n",
    "        return \"istediğimiz elemanı bulamadık\",False\n",
    "    \n",
    "    def ternary_search(self,value):\n",
    "        ilk=0\n",
    "        son=len(self.liste)-1\n",
    "        while ilk <= son:\n",
    "            mid1 = ilk + (son - ilk) // 3\n",
    "            mid2 = son - (son - ilk) // 3\n",
    "            if self.liste[mid1]==value:\n",
    "                return f\"istediğimiz elemanı bulduk ve onun indexi={mid1}\",True\n",
    "            elif self.liste[mid2]==value:\n",
    "                return f\"istediğimiz elemanı bulduk ve onun indexi={mid2}\",True\n",
    "            elif self.liste[mid1]>value:\n",
    "                son = mid1 - 1\n",
    "            elif self.liste[mid2]<value:\n",
    "                ilk = mid2 + 1\n",
    "            else:\n",
    "                ilk = mid1 + 1\n",
    "                son = mid2 - 1\n",
    "        return \"istediğimiz elemanı bulamadık\",False\n",
    "    \n",
    "    def linear_search(self,value):\n",
    "        for i in range(len(self.liste)):\n",
    "            if self.liste[i]==value:\n",
    "                return f\"istediğimiz elemanı bulduk ve onun indexi={i}\",True\n",
    "        return \"istediğimiz elemanı bulamadık\",False\n",
    "    \n",
    "    def linear_search_double(self,value):\n",
    "        mid=len(self.liste)//2   \n",
    "        if len(self.liste)%2==1:\n",
    "            if self.liste[mid]==value:\n",
    "                return f\"istediğimiz elemanı bulduk ve onun indexi={mid}\",True\n",
    "        for i in range(mid):\n",
    "            if self.liste[i]==value:\n",
    "                return f\"istediğimiz elemanı bulduk ve onun indexi={i}\",True\n",
    "            elif self.liste[len(self.liste)-i-1]==value:\n",
    "                return f\"istediğimiz elemanı bulduk ve onun indexi={len(self.liste)-i-1}\",True\n",
    "            \n",
    "        return \"istediğimiz elemanı bulamadık\",False\n",
    "    def Algorithms(self,liste,target):\n",
    "        self.liste=liste\n",
    "        liste_time=[]\n",
    "        liste_time.append(timeit.Timer(lambda: self.binary_search(target)).timeit())\n",
    "        liste_time.append(timeit.Timer(lambda: self.ternary_search(target)).timeit())\n",
    "        liste_time.append(timeit.Timer(lambda: self.linear_search(target)).timeit())\n",
    "        liste_time.append(timeit.Timer(lambda: self.linear_search_double(target)).timeit())\n",
    "        self.dataset[f\"{len(self.liste)} Kayıt\"]=list(map(lambda x: x*1000, liste_time)) \n",
    "        \n",
    "liste1=[i for i in range(1000)]\n",
    "liste2=[i for i in range(10000)]\n",
    "liste3=[i for i in range(50000)]\n",
    "liste4=[i for i in range(100000)]\n",
    "liste5=[i for i in range(500000)]\n",
    "liste6=[i for i in range(1000000)]\n",
    "target=355\n",
    "ara=Arama(liste)\n",
    "ara.Algorithms(target)"
   ]
  },
  {
   "cell_type": "code",
   "execution_count": null,
   "id": "6af3bc26",
   "metadata": {},
   "outputs": [],
   "source": []
  },
  {
   "cell_type": "code",
   "execution_count": 55,
   "id": "bbf25d53",
   "metadata": {},
   "outputs": [
    {
     "data": {
      "text/plain": [
       "3.1275416999997105"
      ]
     },
     "execution_count": 55,
     "metadata": {},
     "output_type": "execute_result"
    }
   ],
   "source": [
    "from timeit import timeit\n",
    "def ternary_search(array, target):\n",
    "    low = 0\n",
    "    high = len(array) - 1\n",
    "    while low <= high:\n",
    "        mid1 = low + (high - low) // 3\n",
    "        mid2 = high - (high - low) // 3\n",
    "        if array[mid1] == target:\n",
    "            return mid1\n",
    "        elif array[mid2] == target:\n",
    "            return mid2\n",
    "        elif array[mid1] > target:\n",
    "            high = mid1 - 1\n",
    "        elif array[mid2] < target:\n",
    "            low = mid2 + 1\n",
    "        else:\n",
    "            low = mid1 + 1\n",
    "            high = mid2 - 1\n",
    "    return -1\n",
    "\n",
    "array=[i for i in range(0,10001)]\n",
    "target=5\n",
    "result = ternary_search(array, target)\n",
    "timeit('ternary_search(array, target)', globals=globals())"
   ]
  },
  {
   "cell_type": "code",
   "execution_count": null,
   "id": "99d32a21",
   "metadata": {},
   "outputs": [],
   "source": [
    "        list_time.append(timeit('self.binary_search(target)'))\n",
    "        list_time.append(timeit('self.ternary_search(target)'))\n",
    "        list_time.append(timeit('self.linear_search(target)'))\n",
    "        list_time.append(timeit('self.linear_search_double(target)'))"
   ]
  },
  {
   "cell_type": "code",
   "execution_count": null,
   "id": "2a0371ea",
   "metadata": {},
   "outputs": [],
   "source": []
  },
  {
   "cell_type": "code",
   "execution_count": 54,
   "id": "9c9cd754",
   "metadata": {},
   "outputs": [
    {
     "data": {
      "text/plain": [
       "0.0"
      ]
     },
     "execution_count": 54,
     "metadata": {},
     "output_type": "execute_result"
    }
   ],
   "source": [
    "import time\n",
    "def ternary_search(array, target):\n",
    "    low = 0\n",
    "    high = len(array) - 1\n",
    "    while low <= high:\n",
    "        mid1 = low + (high - low) // 3\n",
    "        mid2 = high - (high - low) // 3\n",
    "        if array[mid1] == target:\n",
    "            return mid1\n",
    "        elif array[mid2] == target:\n",
    "            return mid2\n",
    "        elif array[mid1] > target:\n",
    "            high = mid1 - 1\n",
    "        elif array[mid2] < target:\n",
    "            low = mid2 + 1\n",
    "        else:\n",
    "            low = mid1 + 1\n",
    "            high = mid2 - 1\n",
    "    return -1\n",
    "\n",
    "startTime = time.time()\n",
    "liste=[i for i in range(10000)]\n",
    "target=355\n",
    "ternary_search(array,target)\n",
    "endTime = time.time()\n",
    "duration = (endTime - startTime) * 1000\n",
    "duration\n",
    "\n"
   ]
  },
  {
   "cell_type": "code",
   "execution_count": 16,
   "id": "31fa2d3b",
   "metadata": {},
   "outputs": [
    {
     "data": {
      "text/plain": [
       "0.0"
      ]
     },
     "execution_count": 16,
     "metadata": {},
     "output_type": "execute_result"
    }
   ],
   "source": [
    "import time \n",
    "def linear_search_double(liste,value):\n",
    "    mid=len(liste)//2   \n",
    "    if len(liste)%2==1:\n",
    "        if [mid]==value:\n",
    "            return f\"istediğimiz elemanı bulduk ve onun indexi={mid}\",True\n",
    "    for i in range(mid):\n",
    "        if liste[i]==value:\n",
    "            return f\"istediğimiz elemanı bulduk ve onun indexi={i}\",True\n",
    "        elif liste[len(liste)-i-1]==value:\n",
    "            return f\"istediğimiz elemanı bulduk ve onun indexi={len(liste)-i-1}\",True\n",
    "        \n",
    "startTime = time.time()\n",
    "liste=[i for i in range(10000)]\n",
    "target=355\n",
    "linear_search_double(liste,target)\n",
    "endTime = time.time()\n",
    "duration = (endTime - startTime)*1000000\n",
    "duration\n"
   ]
  },
  {
   "cell_type": "code",
   "execution_count": null,
   "id": "e49090c2",
   "metadata": {},
   "outputs": [],
   "source": [
    "liste1=[i for i in range(1000)]\n",
    "liste2=[i for i in range(10000)]\n",
    "liste3=[i for i in range(50000)]\n",
    "liste4=[i for i in range(100000)]\n",
    "liste5=[i for i in range(500000)]\n",
    "liste6=[i for i in range(1000000)]"
   ]
  },
  {
   "cell_type": "code",
   "execution_count": 1,
   "id": "b21f224b",
   "metadata": {},
   "outputs": [],
   "source": [
    "from random import randint as ran\n",
    "import timeit\n",
    "from pandas import DataFrame\n",
    "class Arama:\n",
    "    def __init__(self,liste=None):\n",
    "        self.liste=liste\n",
    "        self.dataset={\"algorithm\":[\"binary_search\",\"ternary_search\",\"linear_search\",\"linear_search_double\"]}\n",
    "\n",
    "    def binary_search(self,value):\n",
    "        ilk=0\n",
    "        son=len(self.liste)-1\n",
    "        while ilk<=son:\n",
    "            orta=(ilk+son)//2\n",
    "            if self.liste[orta]==value:\n",
    "                return f\"istediğimiz elemanı bulduk ve onun indexi={orta}\",True\n",
    "            elif self.liste[orta]<value:\n",
    "                ilk=orta+1\n",
    "            else:\n",
    "                son=orta-1\n",
    "        return \"istediğimiz elemanı bulamadık\",False\n",
    "    \n",
    "    def ternary_search(self,value):\n",
    "        ilk=0\n",
    "        son=len(self.liste)-1\n",
    "        while ilk <= son:\n",
    "            mid1 = ilk + (son - ilk) // 3\n",
    "            mid2 = son - (son - ilk) // 3\n",
    "            if self.liste[mid1]==value:\n",
    "                return f\"istediğimiz elemanı bulduk ve onun indexi={mid1}\",True\n",
    "            elif self.liste[mid2]==value:\n",
    "                return f\"istediğimiz elemanı bulduk ve onun indexi={mid2}\",True\n",
    "            elif self.liste[mid1]>value:\n",
    "                son = mid1 - 1\n",
    "            elif self.liste[mid2]<value:\n",
    "                ilk = mid2 + 1\n",
    "            else:\n",
    "                ilk = mid1 + 1\n",
    "                son = mid2 - 1\n",
    "        return \"istediğimiz elemanı bulamadık\",False\n",
    "    \n",
    "    def linear_search(self,value):\n",
    "        for i in range(len(self.liste)):\n",
    "            if self.liste[i]==value:\n",
    "                return f\"istediğimiz elemanı bulduk ve onun indexi={i}\",True\n",
    "        return \"istediğimiz elemanı bulamadık\",False\n",
    "    \n",
    "    def linear_search_double(self,value):\n",
    "        mid=len(self.liste)//2   \n",
    "        if len(self.liste)%2==1:\n",
    "            if self.liste[mid]==value:\n",
    "                return f\"istediğimiz elemanı bulduk ve onun indexi={mid}\",True\n",
    "        for i in range(mid):\n",
    "            if self.liste[i]==value:\n",
    "                return f\"istediğimiz elemanı bulduk ve onun indexi={i}\",True\n",
    "            elif self.liste[len(self.liste)-i-1]==value:\n",
    "                return f\"istediğimiz elemanı bulduk ve onun indexi={len(self.liste)-i-1}\",True\n",
    "            \n",
    "        return \"istediğimiz elemanı bulamadık\",False\n",
    "    def Algorithms(self,liste,target):\n",
    "        self.liste=liste\n",
    "        liste_time=[]\n",
    "        liste_time.append(round(timeit.Timer(lambda: self.binary_search(target)).timeit(),2))\n",
    "        liste_time.append(round(timeit.Timer(lambda: self.ternary_search(target)).timeit(),2))\n",
    "        liste_time.append(round(timeit.Timer(lambda: self.linear_search(target)).timeit(),2))\n",
    "        liste_time.append(round(timeit.Timer(lambda: self.linear_search_double(target)).timeit(),2))\n",
    "        self.dataset[f\"{len(self.liste)} Kayıt\"]=list(map(lambda x:str(x)+\" ms\",list(map(lambda x: x*1000, liste_time))) )\n",
    "    def get_dataset(self):\n",
    "        return DataFrame(self.dataset)\n",
    "    def açıklamak(self):\n",
    "        a=self.dataset.copy()\n",
    "        a.pop(\"algorithm\")\n",
    "        alg=self.dataset[\"algorithm\"]\n",
    "        rows = []\n",
    "        h=list(a.keys())\n",
    "        a=DataFrame(a)\n",
    "        for index, row in a.iterrows():\n",
    "            rows.append(row.tolist())\n",
    "        for i in range(len(alg)):\n",
    "            o=0\n",
    "            for j in rows[i]:\n",
    "                print(f\"{alg[i]} ile {h[o]}la dizide aradığımiz elemanı ile {j}\")\n",
    "                o+=1\n",
    "    \n",
    "    \n",
    "liste1=[i for i in range(100)]\n",
    "liste2=[i for i in range(150)]\n",
    "liste3=[i for i in range(300)]\n",
    "liste4=[i for i in range(500)]\n",
    "\n",
    "target=3\n",
    "ara=Arama() \n",
    "ara.Algorithms(liste1,target)\n",
    "ara.Algorithms(liste2,target)\n",
    "ara.Algorithms(liste3,target)\n",
    "ara.Algorithms(liste4,target)\n"
   ]
  },
  {
   "cell_type": "code",
   "execution_count": 2,
   "id": "22c00942",
   "metadata": {},
   "outputs": [
    {
     "data": {
      "text/html": [
       "<div>\n",
       "<style scoped>\n",
       "    .dataframe tbody tr th:only-of-type {\n",
       "        vertical-align: middle;\n",
       "    }\n",
       "\n",
       "    .dataframe tbody tr th {\n",
       "        vertical-align: top;\n",
       "    }\n",
       "\n",
       "    .dataframe thead th {\n",
       "        text-align: right;\n",
       "    }\n",
       "</style>\n",
       "<table border=\"1\" class=\"dataframe\">\n",
       "  <thead>\n",
       "    <tr style=\"text-align: right;\">\n",
       "      <th></th>\n",
       "      <th>algorithm</th>\n",
       "      <th>100 Kayıt</th>\n",
       "      <th>150 Kayıt</th>\n",
       "      <th>300 Kayıt</th>\n",
       "      <th>500 Kayıt</th>\n",
       "    </tr>\n",
       "  </thead>\n",
       "  <tbody>\n",
       "    <tr>\n",
       "      <th>0</th>\n",
       "      <td>binary_search</td>\n",
       "      <td>1460.0 ms</td>\n",
       "      <td>1200.0 ms</td>\n",
       "      <td>1430.0 ms</td>\n",
       "      <td>1830.0 ms</td>\n",
       "    </tr>\n",
       "    <tr>\n",
       "      <th>1</th>\n",
       "      <td>ternary_search</td>\n",
       "      <td>1160.0 ms</td>\n",
       "      <td>1460.0 ms</td>\n",
       "      <td>1490.0 ms</td>\n",
       "      <td>1700.0 ms</td>\n",
       "    </tr>\n",
       "    <tr>\n",
       "      <th>2</th>\n",
       "      <td>linear_search</td>\n",
       "      <td>680.0 ms</td>\n",
       "      <td>680.0 ms</td>\n",
       "      <td>720.0 ms</td>\n",
       "      <td>710.0 ms</td>\n",
       "    </tr>\n",
       "    <tr>\n",
       "      <th>3</th>\n",
       "      <td>linear_search_double</td>\n",
       "      <td>1120.0 ms</td>\n",
       "      <td>1130.0 ms</td>\n",
       "      <td>1200.0 ms</td>\n",
       "      <td>1200.0 ms</td>\n",
       "    </tr>\n",
       "  </tbody>\n",
       "</table>\n",
       "</div>"
      ],
      "text/plain": [
       "              algorithm  100 Kayıt  150 Kayıt  300 Kayıt  500 Kayıt\n",
       "0         binary_search  1460.0 ms  1200.0 ms  1430.0 ms  1830.0 ms\n",
       "1        ternary_search  1160.0 ms  1460.0 ms  1490.0 ms  1700.0 ms\n",
       "2         linear_search   680.0 ms   680.0 ms   720.0 ms   710.0 ms\n",
       "3  linear_search_double  1120.0 ms  1130.0 ms  1200.0 ms  1200.0 ms"
      ]
     },
     "execution_count": 2,
     "metadata": {},
     "output_type": "execute_result"
    }
   ],
   "source": [
    "ara.get_dataset()"
   ]
  },
  {
   "cell_type": "code",
   "execution_count": 3,
   "id": "2831b557",
   "metadata": {},
   "outputs": [
    {
     "name": "stdout",
     "output_type": "stream",
     "text": [
      "binary_search ile 100 Kayıtla dizide aradığımiz elemanı ile 1460.0 ms\n",
      "binary_search ile 150 Kayıtla dizide aradığımiz elemanı ile 1200.0 ms\n",
      "binary_search ile 300 Kayıtla dizide aradığımiz elemanı ile 1430.0 ms\n",
      "binary_search ile 500 Kayıtla dizide aradığımiz elemanı ile 1830.0 ms\n",
      "ternary_search ile 100 Kayıtla dizide aradığımiz elemanı ile 1160.0 ms\n",
      "ternary_search ile 150 Kayıtla dizide aradığımiz elemanı ile 1460.0 ms\n",
      "ternary_search ile 300 Kayıtla dizide aradığımiz elemanı ile 1490.0 ms\n",
      "ternary_search ile 500 Kayıtla dizide aradığımiz elemanı ile 1700.0 ms\n",
      "linear_search ile 100 Kayıtla dizide aradığımiz elemanı ile 680.0 ms\n",
      "linear_search ile 150 Kayıtla dizide aradığımiz elemanı ile 680.0 ms\n",
      "linear_search ile 300 Kayıtla dizide aradığımiz elemanı ile 720.0 ms\n",
      "linear_search ile 500 Kayıtla dizide aradığımiz elemanı ile 710.0 ms\n",
      "linear_search_double ile 100 Kayıtla dizide aradığımiz elemanı ile 1120.0 ms\n",
      "linear_search_double ile 150 Kayıtla dizide aradığımiz elemanı ile 1130.0 ms\n",
      "linear_search_double ile 300 Kayıtla dizide aradığımiz elemanı ile 1200.0 ms\n",
      "linear_search_double ile 500 Kayıtla dizide aradığımiz elemanı ile 1200.0 ms\n"
     ]
    }
   ],
   "source": [
    "ara.açıklamak()"
   ]
  },
  {
   "cell_type": "code",
   "execution_count": 5,
   "id": "0035cc90",
   "metadata": {},
   "outputs": [
    {
     "data": {
      "text/plain": [
       "{'algorithm': ['binary_search',\n",
       "  'ternary_search',\n",
       "  'linear_search',\n",
       "  'linear_search_double'],\n",
       " '10 Kayıt': ['1030.0 ms', '580.0 ms', '700.0 ms', '1150.0 ms'],\n",
       " '15 Kayıt': ['680.0 ms', '1250.0 ms', '700.0 ms', '1190.0 ms']}"
      ]
     },
     "execution_count": 5,
     "metadata": {},
     "output_type": "execute_result"
    }
   ],
   "source": [
    "ara.dataset"
   ]
  },
  {
   "cell_type": "code",
   "execution_count": 10,
   "id": "ca0d3b40",
   "metadata": {},
   "outputs": [
    {
     "name": "stdout",
     "output_type": "stream",
     "text": [
      "[['binary_search', '1030.0 ms', '680.0 ms'], ['ternary_search', '580.0 ms', '1250.0 ms'], ['linear_search', '700.0 ms', '700.0 ms'], ['linear_search_double', '1150.0 ms', '1190.0 ms']]\n"
     ]
    }
   ],
   "source": [
    "# استيراد مكتبة بانداس\n",
    "import pandas as pd\n",
    "\n",
    "# إنشاء جدول البيانات من القاموس\n",
    "dataset = {'algorithm': ['binary_search', 'ternary_search', 'linear_search', 'linear_search_double'], '10 Kayıt': ['1030.0 ms', '580.0 ms', '700.0 ms', '1150.0 ms'], '15 Kayıt': ['680.0 ms', '1250.0 ms', '700.0 ms', '1190.0 ms']}\n",
    "df = pd.DataFrame(dataset)\n",
    "\n",
    "# إنشاء قائمة فارغة لتخزين الصفوف\n",
    "rows = []\n",
    "\n",
    "# تكرار على كل صف في جدول البيانات وإضافته إلى القائمة\n",
    "for index, row in df.iterrows():\n",
    "  rows.append(row.tolist())\n",
    "\n",
    "# طباعة القائمة التي تحتوي على الصفوف\n",
    "print(rows)\n"
   ]
  },
  {
   "cell_type": "code",
   "execution_count": 12,
   "id": "2dca7e28",
   "metadata": {},
   "outputs": [
    {
     "data": {
      "text/plain": [
       "['binary_search', 'ternary_search', 'linear_search', 'linear_search_double']"
      ]
     },
     "execution_count": 12,
     "metadata": {},
     "output_type": "execute_result"
    }
   ],
   "source": [
    "dataset[\"algorithm\"]"
   ]
  },
  {
   "cell_type": "code",
   "execution_count": 4,
   "id": "72bdc744",
   "metadata": {},
   "outputs": [
    {
     "data": {
      "text/plain": [
       "{'10 Kayıt': ['1030.0 ms', '580.0 ms', '700.0 ms', '1150.0 ms'],\n",
       " '15 Kayıt': ['680.0 ms', '1250.0 ms', '700.0 ms', '1190.0 ms']}"
      ]
     },
     "execution_count": 4,
     "metadata": {},
     "output_type": "execute_result"
    }
   ],
   "source": [
    "a=dataset.copy()\n",
    "a.pop(\"algorithm\")\n",
    "a"
   ]
  },
  {
   "cell_type": "code",
   "execution_count": 6,
   "id": "39b18d7d",
   "metadata": {},
   "outputs": [
    {
     "name": "stdout",
     "output_type": "stream",
     "text": [
      "algorithm\n",
      "10 Kayıt\n",
      "15 Kayıt\n"
     ]
    }
   ],
   "source": [
    "for i in dataset:\n",
    "    print(i)"
   ]
  },
  {
   "cell_type": "code",
   "execution_count": null,
   "id": "2ce20353",
   "metadata": {},
   "outputs": [],
   "source": [
    "        rows = []\n",
    "        for index, row in self.dataset.iterrows():\n",
    "            rows.append(row.tolist())\n",
    "        for i in range(len(rows)):\n",
    "            row=rows[i]\n",
    "            print(f\"{row[0]} ile {}\")"
   ]
  },
  {
   "cell_type": "code",
   "execution_count": null,
   "id": "a0befc9b",
   "metadata": {},
   "outputs": [],
   "source": [
    "    def açıklamak(self):\n",
    "        a=self.dataset.copy()\n",
    "        a.pop(\"algorithm\")\n",
    "        alg=self.dataset[\"algorithm\"]\n",
    "        rows = []\n",
    "        a=DataFrame(a)\n",
    "        h=list(a.keys())\n",
    "        for index, row in a.iterrows():\n",
    "            rows.append(row.tolist())\n",
    "        for i in range(len(alg)):\n",
    "            o=0\n",
    "            for j in rows[i]:\n",
    "                print(f\"{alg[i]} ile {h[o]}la dizide aradığımiz elemanı ile {j[o]}\")\n",
    "                o+=1\n",
    "        "
   ]
  },
  {
   "cell_type": "code",
   "execution_count": 9,
   "id": "f6fb09d1",
   "metadata": {},
   "outputs": [
    {
     "ename": "SyntaxError",
     "evalue": "invalid syntax (Temp/ipykernel_18860/3618590095.py, line 7)",
     "output_type": "error",
     "traceback": [
      "\u001b[1;36m  File \u001b[1;32m\"C:\\Users\\90535\\AppData\\Local\\Temp/ipykernel_18860/3618590095.py\"\u001b[1;36m, line \u001b[1;32m7\u001b[0m\n\u001b[1;33m    for index,row in dataset.iterrows():\u001b[0m\n\u001b[1;37m                                       ^\u001b[0m\n\u001b[1;31mSyntaxError\u001b[0m\u001b[1;31m:\u001b[0m invalid syntax\n"
     ]
    }
   ],
   "source": [
    "import pandas\n",
    "dataset = {'algorithm': ['binary_search', 'ternary_search', 'linear_search', 'linear_search_double'], '10 Kayıt': ['1030.0 ms', '580.0 ms', '700.0 ms', '1150.0 ms'], '15 Kayıt': ['680.0 ms', '1250.0 ms', '700.0 ms', '1190.0 ms']}\n",
    "df = pd.DataFrame(dataset)\n",
    "rows = []\n",
    "a=self.dataset.copy()\n",
    "a.pop(\"algorithm\"\n",
    "for index,row in dataset.iterrows():\n",
    "    rows.append(row.tolist())\n",
    "print(rows)"
   ]
  },
  {
   "cell_type": "code",
   "execution_count": 15,
   "id": "0303c673",
   "metadata": {},
   "outputs": [
    {
     "name": "stdout",
     "output_type": "stream",
     "text": [
      "[['binary_search', '1030.0 ms', '680.0 ms'], ['ternary_search', '580.0 ms', '1250.0 ms'], ['linear_search', '700.0 ms', '700.0 ms'], ['linear_search_double', '1150.0 ms', '1190.0 ms']]\n"
     ]
    }
   ],
   "source": [
    "# استيراد مكتبة بانداس\n",
    "import pandas as pd\n",
    "\n",
    "# إنشاء جدول البيانات من القاموس\n",
    "dataset = {'algorithm': ['binary_search', 'ternary_search', 'linear_search', 'linear_search_double'], '10 Kayıt': ['1030.0 ms', '580.0 ms', '700.0 ms', '1150.0 ms'], '15 Kayıt': ['680.0 ms', '1250.0 ms', '700.0 ms', '1190.0 ms']}\n",
    "df = pd.DataFrame(dataset)\n",
    "\n",
    "# إنشاء قائمة فارغة لتخزين الصفوف\n",
    "rows = []\n",
    "\n",
    "# تكرار على كل صف في جدول البيانات وإضافته إلى القائمة\n",
    "for index, row in df.iterrows():\n",
    "  rows.append(row.tolist())\n",
    "\n",
    "# طباعة القائمة التي تحتوي على الصفوف\n",
    "print(rows)\n"
   ]
  },
  {
   "cell_type": "code",
   "execution_count": 18,
   "id": "e334f819",
   "metadata": {},
   "outputs": [
    {
     "data": {
      "text/plain": [
       "['algorithm', '10 Kayıt', '15 Kayıt']"
      ]
     },
     "execution_count": 18,
     "metadata": {},
     "output_type": "execute_result"
    }
   ],
   "source": [
    "h=list(dataset.keys())\n",
    "h"
   ]
  },
  {
   "cell_type": "code",
   "execution_count": null,
   "id": "313efdc1",
   "metadata": {},
   "outputs": [],
   "source": []
  }
 ],
 "metadata": {
  "kernelspec": {
   "display_name": "Python 3 (ipykernel)",
   "language": "python",
   "name": "python3"
  },
  "language_info": {
   "codemirror_mode": {
    "name": "ipython",
    "version": 3
   },
   "file_extension": ".py",
   "mimetype": "text/x-python",
   "name": "python",
   "nbconvert_exporter": "python",
   "pygments_lexer": "ipython3",
   "version": "3.9.7"
  }
 },
 "nbformat": 4,
 "nbformat_minor": 5
}
